{
 "cells": [
  {
   "cell_type": "code",
   "execution_count": 1,
   "metadata": {},
   "outputs": [],
   "source": [
    "from pyspark.sql import SparkSession\n",
    "from pyspark.ml.classification import LogisticRegression, RandomForestClassifier, LinearSVC\n",
    "from pyspark.ml.evaluation import MulticlassClassificationEvaluator\n",
    "from pyspark.ml.feature import VectorAssembler\n",
    "from pyspark.ml import Pipeline"
   ]
  },
  {
   "cell_type": "code",
   "execution_count": 2,
   "metadata": {},
   "outputs": [
    {
     "data": {
      "text/html": [
       "\n",
       "            <div>\n",
       "                <p><b>SparkSession - in-memory</b></p>\n",
       "                \n",
       "        <div>\n",
       "            <p><b>SparkContext</b></p>\n",
       "\n",
       "            <p><a href=\"http://10.150.39.116:4041\">Spark UI</a></p>\n",
       "\n",
       "            <dl>\n",
       "              <dt>Version</dt>\n",
       "                <dd><code>v3.5.3</code></dd>\n",
       "              <dt>Master</dt>\n",
       "                <dd><code>local[*]</code></dd>\n",
       "              <dt>AppName</dt>\n",
       "                <dd><code>Model Training and Selection</code></dd>\n",
       "            </dl>\n",
       "        </div>\n",
       "        \n",
       "            </div>\n",
       "        "
      ],
      "text/plain": [
       "<pyspark.sql.session.SparkSession at 0x263a2498c50>"
      ]
     },
     "execution_count": 2,
     "metadata": {},
     "output_type": "execute_result"
    }
   ],
   "source": [
    "# Create a Spark session\n",
    "spark = SparkSession.builder \\\n",
    "    .appName(\"Model Training and Selection\") \\\n",
    "    .getOrCreate()\n",
    "spark"
   ]
  },
  {
   "cell_type": "code",
   "execution_count": 3,
   "metadata": {},
   "outputs": [
    {
     "name": "stdout",
     "output_type": "stream",
     "text": [
      "+---+-------------------+-----------+-------------------+\n",
      "|_c0|               time|temperature|optimal_temperature|\n",
      "+---+-------------------+-----------+-------------------+\n",
      "|  0|2019-01-01 00:59:59|        3.1|               21.9|\n",
      "|  1|2019-01-01 01:59:59|        2.9| 21.799999999999997|\n",
      "|  2|2019-01-01 02:59:59|        3.1| 21.699999999999996|\n",
      "|  3|2019-01-01 03:59:59|        1.9| 21.599999999999994|\n",
      "|  4|2019-01-01 04:59:59|        0.7| 21.599999999999994|\n",
      "|  5|2019-01-01 05:59:59|        0.5| 21.499999999999993|\n",
      "|  6|2019-01-01 06:59:59|        0.0|  21.39999999999999|\n",
      "|  7|2019-01-01 07:59:59|       -0.8|  21.29999999999999|\n",
      "|  8|2019-01-01 08:59:59|        0.0|  21.19999999999999|\n",
      "|  9|2019-01-01 09:59:59|        2.2| 20.799999999999983|\n",
      "| 10|2019-01-01 10:59:59|        3.1|  20.59999999999998|\n",
      "| 11|2019-01-01 11:59:59|        5.5|  19.99999999999997|\n",
      "| 12|2019-01-01 12:59:59|        7.8| 18.899999999999956|\n",
      "| 13|2019-01-01 13:59:59|       10.1| 15.399999999999919|\n",
      "| 14|2019-01-01 14:59:59|       10.4|  11.99999999999993|\n",
      "| 15|2019-01-01 15:59:59|       11.9|  11.99999999999993|\n",
      "| 16|2019-01-01 16:59:59|       10.1| 13.399999999999926|\n",
      "| 17|2019-01-01 17:59:59|        8.5| 17.599999999999937|\n",
      "| 18|2019-01-01 18:59:59|        7.7| 18.199999999999946|\n",
      "| 19|2019-01-01 19:59:59|        7.1|  18.49999999999995|\n",
      "+---+-------------------+-----------+-------------------+\n",
      "only showing top 20 rows\n",
      "\n"
     ]
    }
   ],
   "source": [
    "# Load data\n",
    "data = spark.read.csv('C:\\\\Users\\\\Rishita\\\\Desktop\\\\Rishita Desktop Copy\\\\IoT_DA331_Project\\\\processed_data.csv', header=True, inferSchema=True)\n",
    "\n",
    "# Display the first few rows of the dataframe\n",
    "data.show()\n"
   ]
  },
  {
   "cell_type": "code",
   "execution_count": null,
   "metadata": {},
   "outputs": [
    {
     "ename": "AnalysisException",
     "evalue": "[UNRESOLVED_COLUMN.WITH_SUGGESTION] A column or function parameter with name `time` cannot be resolved. Did you mean one of the following? [`_c0`, `day`, `hour`, `minute`, `year`].;\n'Project [_c0#17, temperature#19, optimal_temperature#20, year('time) AS year#95, month#53, day#60, hour#68, minute#77]\n+- Project [_c0#17, temperature#19, optimal_temperature#20, year#47, month#53, day#60, hour#68, minute#77]\n   +- Project [_c0#17, time#18, temperature#19, optimal_temperature#20, year#47, month#53, day#60, hour#68, minute(time#18, Some(Asia/Calcutta)) AS minute#77]\n      +- Project [_c0#17, time#18, temperature#19, optimal_temperature#20, year#47, month#53, day#60, hour(time#18, Some(Asia/Calcutta)) AS hour#68]\n         +- Project [_c0#17, time#18, temperature#19, optimal_temperature#20, year#47, month#53, dayofmonth(cast(time#18 as date)) AS day#60]\n            +- Project [_c0#17, time#18, temperature#19, optimal_temperature#20, year#47, month(cast(time#18 as date)) AS month#53]\n               +- Project [_c0#17, time#18, temperature#19, optimal_temperature#20, year(cast(time#18 as date)) AS year#47]\n                  +- Relation [_c0#17,time#18,temperature#19,optimal_temperature#20] csv\n",
     "output_type": "error",
     "traceback": [
      "\u001b[1;31m---------------------------------------------------------------------------\u001b[0m",
      "\u001b[1;31mAnalysisException\u001b[0m                         Traceback (most recent call last)",
      "Cell \u001b[1;32mIn[6], line 4\u001b[0m\n\u001b[0;32m      1\u001b[0m \u001b[38;5;28;01mfrom\u001b[39;00m \u001b[38;5;21;01mpyspark\u001b[39;00m\u001b[38;5;21;01m.\u001b[39;00m\u001b[38;5;21;01msql\u001b[39;00m\u001b[38;5;21;01m.\u001b[39;00m\u001b[38;5;21;01mfunctions\u001b[39;00m \u001b[38;5;28;01mimport\u001b[39;00m year, month, dayofmonth, hour, minute\n\u001b[0;32m      3\u001b[0m \u001b[38;5;66;03m# Assuming 'time' is the timestamp column, we can extract parts of the timestamp\u001b[39;00m\n\u001b[1;32m----> 4\u001b[0m data \u001b[38;5;241m=\u001b[39m \u001b[43mdata\u001b[49m\u001b[38;5;241;43m.\u001b[39;49m\u001b[43mwithColumn\u001b[49m\u001b[43m(\u001b[49m\u001b[38;5;124;43m\"\u001b[39;49m\u001b[38;5;124;43myear\u001b[39;49m\u001b[38;5;124;43m\"\u001b[39;49m\u001b[43m,\u001b[49m\u001b[43m \u001b[49m\u001b[43myear\u001b[49m\u001b[43m(\u001b[49m\u001b[38;5;124;43m\"\u001b[39;49m\u001b[38;5;124;43mtime\u001b[39;49m\u001b[38;5;124;43m\"\u001b[39;49m\u001b[43m)\u001b[49m\u001b[43m)\u001b[49m\n\u001b[0;32m      5\u001b[0m data \u001b[38;5;241m=\u001b[39m data\u001b[38;5;241m.\u001b[39mwithColumn(\u001b[38;5;124m\"\u001b[39m\u001b[38;5;124mmonth\u001b[39m\u001b[38;5;124m\"\u001b[39m, month(\u001b[38;5;124m\"\u001b[39m\u001b[38;5;124mtime\u001b[39m\u001b[38;5;124m\"\u001b[39m))\n\u001b[0;32m      6\u001b[0m data \u001b[38;5;241m=\u001b[39m data\u001b[38;5;241m.\u001b[39mwithColumn(\u001b[38;5;124m\"\u001b[39m\u001b[38;5;124mday\u001b[39m\u001b[38;5;124m\"\u001b[39m, dayofmonth(\u001b[38;5;124m\"\u001b[39m\u001b[38;5;124mtime\u001b[39m\u001b[38;5;124m\"\u001b[39m))\n",
      "File \u001b[1;32m~\\AppData\\Local\\Packages\\PythonSoftwareFoundation.Python.3.11_qbz5n2kfra8p0\\LocalCache\\local-packages\\Python311\\site-packages\\pyspark\\sql\\dataframe.py:5176\u001b[0m, in \u001b[0;36mDataFrame.withColumn\u001b[1;34m(self, colName, col)\u001b[0m\n\u001b[0;32m   5171\u001b[0m \u001b[38;5;28;01mif\u001b[39;00m \u001b[38;5;129;01mnot\u001b[39;00m \u001b[38;5;28misinstance\u001b[39m(col, Column):\n\u001b[0;32m   5172\u001b[0m     \u001b[38;5;28;01mraise\u001b[39;00m PySparkTypeError(\n\u001b[0;32m   5173\u001b[0m         error_class\u001b[38;5;241m=\u001b[39m\u001b[38;5;124m\"\u001b[39m\u001b[38;5;124mNOT_COLUMN\u001b[39m\u001b[38;5;124m\"\u001b[39m,\n\u001b[0;32m   5174\u001b[0m         message_parameters\u001b[38;5;241m=\u001b[39m{\u001b[38;5;124m\"\u001b[39m\u001b[38;5;124marg_name\u001b[39m\u001b[38;5;124m\"\u001b[39m: \u001b[38;5;124m\"\u001b[39m\u001b[38;5;124mcol\u001b[39m\u001b[38;5;124m\"\u001b[39m, \u001b[38;5;124m\"\u001b[39m\u001b[38;5;124marg_type\u001b[39m\u001b[38;5;124m\"\u001b[39m: \u001b[38;5;28mtype\u001b[39m(col)\u001b[38;5;241m.\u001b[39m\u001b[38;5;18m__name__\u001b[39m},\n\u001b[0;32m   5175\u001b[0m     )\n\u001b[1;32m-> 5176\u001b[0m \u001b[38;5;28;01mreturn\u001b[39;00m DataFrame(\u001b[38;5;28;43mself\u001b[39;49m\u001b[38;5;241;43m.\u001b[39;49m\u001b[43m_jdf\u001b[49m\u001b[38;5;241;43m.\u001b[39;49m\u001b[43mwithColumn\u001b[49m\u001b[43m(\u001b[49m\u001b[43mcolName\u001b[49m\u001b[43m,\u001b[49m\u001b[43m \u001b[49m\u001b[43mcol\u001b[49m\u001b[38;5;241;43m.\u001b[39;49m\u001b[43m_jc\u001b[49m\u001b[43m)\u001b[49m, \u001b[38;5;28mself\u001b[39m\u001b[38;5;241m.\u001b[39msparkSession)\n",
      "File \u001b[1;32m~\\AppData\\Local\\Packages\\PythonSoftwareFoundation.Python.3.11_qbz5n2kfra8p0\\LocalCache\\local-packages\\Python311\\site-packages\\py4j\\java_gateway.py:1322\u001b[0m, in \u001b[0;36mJavaMember.__call__\u001b[1;34m(self, *args)\u001b[0m\n\u001b[0;32m   1316\u001b[0m command \u001b[38;5;241m=\u001b[39m proto\u001b[38;5;241m.\u001b[39mCALL_COMMAND_NAME \u001b[38;5;241m+\u001b[39m\\\n\u001b[0;32m   1317\u001b[0m     \u001b[38;5;28mself\u001b[39m\u001b[38;5;241m.\u001b[39mcommand_header \u001b[38;5;241m+\u001b[39m\\\n\u001b[0;32m   1318\u001b[0m     args_command \u001b[38;5;241m+\u001b[39m\\\n\u001b[0;32m   1319\u001b[0m     proto\u001b[38;5;241m.\u001b[39mEND_COMMAND_PART\n\u001b[0;32m   1321\u001b[0m answer \u001b[38;5;241m=\u001b[39m \u001b[38;5;28mself\u001b[39m\u001b[38;5;241m.\u001b[39mgateway_client\u001b[38;5;241m.\u001b[39msend_command(command)\n\u001b[1;32m-> 1322\u001b[0m return_value \u001b[38;5;241m=\u001b[39m \u001b[43mget_return_value\u001b[49m\u001b[43m(\u001b[49m\n\u001b[0;32m   1323\u001b[0m \u001b[43m    \u001b[49m\u001b[43manswer\u001b[49m\u001b[43m,\u001b[49m\u001b[43m \u001b[49m\u001b[38;5;28;43mself\u001b[39;49m\u001b[38;5;241;43m.\u001b[39;49m\u001b[43mgateway_client\u001b[49m\u001b[43m,\u001b[49m\u001b[43m \u001b[49m\u001b[38;5;28;43mself\u001b[39;49m\u001b[38;5;241;43m.\u001b[39;49m\u001b[43mtarget_id\u001b[49m\u001b[43m,\u001b[49m\u001b[43m \u001b[49m\u001b[38;5;28;43mself\u001b[39;49m\u001b[38;5;241;43m.\u001b[39;49m\u001b[43mname\u001b[49m\u001b[43m)\u001b[49m\n\u001b[0;32m   1325\u001b[0m \u001b[38;5;28;01mfor\u001b[39;00m temp_arg \u001b[38;5;129;01min\u001b[39;00m temp_args:\n\u001b[0;32m   1326\u001b[0m     \u001b[38;5;28;01mif\u001b[39;00m \u001b[38;5;28mhasattr\u001b[39m(temp_arg, \u001b[38;5;124m\"\u001b[39m\u001b[38;5;124m_detach\u001b[39m\u001b[38;5;124m\"\u001b[39m):\n",
      "File \u001b[1;32m~\\AppData\\Local\\Packages\\PythonSoftwareFoundation.Python.3.11_qbz5n2kfra8p0\\LocalCache\\local-packages\\Python311\\site-packages\\pyspark\\errors\\exceptions\\captured.py:185\u001b[0m, in \u001b[0;36mcapture_sql_exception.<locals>.deco\u001b[1;34m(*a, **kw)\u001b[0m\n\u001b[0;32m    181\u001b[0m converted \u001b[38;5;241m=\u001b[39m convert_exception(e\u001b[38;5;241m.\u001b[39mjava_exception)\n\u001b[0;32m    182\u001b[0m \u001b[38;5;28;01mif\u001b[39;00m \u001b[38;5;129;01mnot\u001b[39;00m \u001b[38;5;28misinstance\u001b[39m(converted, UnknownException):\n\u001b[0;32m    183\u001b[0m     \u001b[38;5;66;03m# Hide where the exception came from that shows a non-Pythonic\u001b[39;00m\n\u001b[0;32m    184\u001b[0m     \u001b[38;5;66;03m# JVM exception message.\u001b[39;00m\n\u001b[1;32m--> 185\u001b[0m     \u001b[38;5;28;01mraise\u001b[39;00m converted \u001b[38;5;28;01mfrom\u001b[39;00m \u001b[38;5;28;01mNone\u001b[39;00m\n\u001b[0;32m    186\u001b[0m \u001b[38;5;28;01melse\u001b[39;00m:\n\u001b[0;32m    187\u001b[0m     \u001b[38;5;28;01mraise\u001b[39;00m\n",
      "\u001b[1;31mAnalysisException\u001b[0m: [UNRESOLVED_COLUMN.WITH_SUGGESTION] A column or function parameter with name `time` cannot be resolved. Did you mean one of the following? [`_c0`, `day`, `hour`, `minute`, `year`].;\n'Project [_c0#17, temperature#19, optimal_temperature#20, year('time) AS year#95, month#53, day#60, hour#68, minute#77]\n+- Project [_c0#17, temperature#19, optimal_temperature#20, year#47, month#53, day#60, hour#68, minute#77]\n   +- Project [_c0#17, time#18, temperature#19, optimal_temperature#20, year#47, month#53, day#60, hour#68, minute(time#18, Some(Asia/Calcutta)) AS minute#77]\n      +- Project [_c0#17, time#18, temperature#19, optimal_temperature#20, year#47, month#53, day#60, hour(time#18, Some(Asia/Calcutta)) AS hour#68]\n         +- Project [_c0#17, time#18, temperature#19, optimal_temperature#20, year#47, month#53, dayofmonth(cast(time#18 as date)) AS day#60]\n            +- Project [_c0#17, time#18, temperature#19, optimal_temperature#20, year#47, month(cast(time#18 as date)) AS month#53]\n               +- Project [_c0#17, time#18, temperature#19, optimal_temperature#20, year(cast(time#18 as date)) AS year#47]\n                  +- Relation [_c0#17,time#18,temperature#19,optimal_temperature#20] csv\n"
     ]
    }
   ],
   "source": [
    "from pyspark.sql.functions import year, month, dayofmonth, hour, minute\n",
    "\n",
    "# Assuming 'time' is the timestamp column, we can extract parts of the timestamp\n",
    "data = data.withColumn(\"year\", year(\"time\"))\n",
    "data = data.withColumn(\"month\", month(\"time\"))\n",
    "data = data.withColumn(\"day\", dayofmonth(\"time\"))\n",
    "data = data.withColumn(\"hour\", hour(\"time\"))\n",
    "data = data.withColumn(\"minute\", minute(\"time\"))\n",
    "\n",
    "# Now remove the original 'time' column if it's no longer needed\n",
    "data = data.drop(\"time\")\n",
    "data.show()"
   ]
  },
  {
   "cell_type": "code",
   "execution_count": 7,
   "metadata": {},
   "outputs": [
    {
     "name": "stdout",
     "output_type": "stream",
     "text": [
      "+---+-----------+-------------------+----+-----+---+----+------+\n",
      "|_c0|temperature|optimal_temperature|year|month|day|hour|minute|\n",
      "+---+-----------+-------------------+----+-----+---+----+------+\n",
      "|  0|        3.1|               21.9|2019|    1|  1|   0|    59|\n",
      "|  1|        2.9| 21.799999999999997|2019|    1|  1|   1|    59|\n",
      "|  2|        3.1| 21.699999999999996|2019|    1|  1|   2|    59|\n",
      "|  3|        1.9| 21.599999999999994|2019|    1|  1|   3|    59|\n",
      "|  4|        0.7| 21.599999999999994|2019|    1|  1|   4|    59|\n",
      "|  5|        0.5| 21.499999999999993|2019|    1|  1|   5|    59|\n",
      "|  6|        0.0|  21.39999999999999|2019|    1|  1|   6|    59|\n",
      "|  7|       -0.8|  21.29999999999999|2019|    1|  1|   7|    59|\n",
      "|  8|        0.0|  21.19999999999999|2019|    1|  1|   8|    59|\n",
      "|  9|        2.2| 20.799999999999983|2019|    1|  1|   9|    59|\n",
      "| 10|        3.1|  20.59999999999998|2019|    1|  1|  10|    59|\n",
      "| 11|        5.5|  19.99999999999997|2019|    1|  1|  11|    59|\n",
      "| 12|        7.8| 18.899999999999956|2019|    1|  1|  12|    59|\n",
      "| 13|       10.1| 15.399999999999919|2019|    1|  1|  13|    59|\n",
      "| 14|       10.4|  11.99999999999993|2019|    1|  1|  14|    59|\n",
      "| 15|       11.9|  11.99999999999993|2019|    1|  1|  15|    59|\n",
      "| 16|       10.1| 13.399999999999926|2019|    1|  1|  16|    59|\n",
      "| 17|        8.5| 17.599999999999937|2019|    1|  1|  17|    59|\n",
      "| 18|        7.7| 18.199999999999946|2019|    1|  1|  18|    59|\n",
      "| 19|        7.1|  18.49999999999995|2019|    1|  1|  19|    59|\n",
      "+---+-----------+-------------------+----+-----+---+----+------+\n",
      "only showing top 20 rows\n",
      "\n"
     ]
    }
   ],
   "source": [
    "data.show()"
   ]
  },
  {
   "cell_type": "code",
   "execution_count": 8,
   "metadata": {},
   "outputs": [
    {
     "name": "stdout",
     "output_type": "stream",
     "text": [
      "+---+-----------+-------------------+----+-----+---+----+------+--------------------+\n",
      "|_c0|temperature|optimal_temperature|year|month|day|hour|minute|            features|\n",
      "+---+-----------+-------------------+----+-----+---+----+------+--------------------+\n",
      "|  0|        3.1|               21.9|2019|    1|  1|   0|    59|[0.0,3.1,21.9,201...|\n",
      "|  1|        2.9| 21.799999999999997|2019|    1|  1|   1|    59|[1.0,2.9,21.79999...|\n",
      "|  2|        3.1| 21.699999999999996|2019|    1|  1|   2|    59|[2.0,3.1,21.69999...|\n",
      "|  3|        1.9| 21.599999999999994|2019|    1|  1|   3|    59|[3.0,1.9,21.59999...|\n",
      "|  4|        0.7| 21.599999999999994|2019|    1|  1|   4|    59|[4.0,0.7,21.59999...|\n",
      "|  5|        0.5| 21.499999999999993|2019|    1|  1|   5|    59|[5.0,0.5,21.49999...|\n",
      "|  6|        0.0|  21.39999999999999|2019|    1|  1|   6|    59|[6.0,0.0,21.39999...|\n",
      "|  7|       -0.8|  21.29999999999999|2019|    1|  1|   7|    59|[7.0,-0.8,21.2999...|\n",
      "|  8|        0.0|  21.19999999999999|2019|    1|  1|   8|    59|[8.0,0.0,21.19999...|\n",
      "|  9|        2.2| 20.799999999999983|2019|    1|  1|   9|    59|[9.0,2.2,20.79999...|\n",
      "| 10|        3.1|  20.59999999999998|2019|    1|  1|  10|    59|[10.0,3.1,20.5999...|\n",
      "| 11|        5.5|  19.99999999999997|2019|    1|  1|  11|    59|[11.0,5.5,19.9999...|\n",
      "| 12|        7.8| 18.899999999999956|2019|    1|  1|  12|    59|[12.0,7.8,18.8999...|\n",
      "| 13|       10.1| 15.399999999999919|2019|    1|  1|  13|    59|[13.0,10.1,15.399...|\n",
      "| 14|       10.4|  11.99999999999993|2019|    1|  1|  14|    59|[14.0,10.4,11.999...|\n",
      "| 15|       11.9|  11.99999999999993|2019|    1|  1|  15|    59|[15.0,11.9,11.999...|\n",
      "| 16|       10.1| 13.399999999999926|2019|    1|  1|  16|    59|[16.0,10.1,13.399...|\n",
      "| 17|        8.5| 17.599999999999937|2019|    1|  1|  17|    59|[17.0,8.5,17.5999...|\n",
      "| 18|        7.7| 18.199999999999946|2019|    1|  1|  18|    59|[18.0,7.7,18.1999...|\n",
      "| 19|        7.1|  18.49999999999995|2019|    1|  1|  19|    59|[19.0,7.1,18.4999...|\n",
      "+---+-----------+-------------------+----+-----+---+----+------+--------------------+\n",
      "only showing top 20 rows\n",
      "\n"
     ]
    }
   ],
   "source": [
    "target_col = \"optimal_temperature\"\n",
    "# Assuming the target/label column is named 'label'\n",
    "# Assuming you've either transformed or removed the 'time' column\n",
    "feature_columns = [col for col in data.columns if col != 'label' and col not in {'time'}]\n",
    "assembler = VectorAssembler(inputCols=feature_columns, outputCol=\"features\")\n",
    "\n",
    "# Transform data\n",
    "data = assembler.transform(data)\n",
    "data.show()"
   ]
  },
  {
   "cell_type": "code",
   "execution_count": null,
   "metadata": {},
   "outputs": [],
   "source": [
    "# Split the data into training and testing sets\n",
    "train_data, test_data = data.randomSplit([0.8, 0.2], seed=42)"
   ]
  },
  {
   "cell_type": "code",
   "execution_count": null,
   "metadata": {},
   "outputs": [],
   "source": [
    "# Initialize models\n",
    "lr = LogisticRegression(featuresCol='features', labelCol='label')\n",
    "rf = RandomForestClassifier(featuresCol='features', labelCol='label')\n",
    "svc = LinearSVC(featuresCol='features', labelCol='label')\n",
    "\n",
    "models = {\n",
    "    \"Logistic Regression\": lr,\n",
    "    \"Random Forest\": rf,\n",
    "    \"SVM\": svc\n",
    "}\n",
    "\n",
    "# Dictionary to hold accuracy results\n",
    "accuracies = {}\n",
    "\n",
    "evaluator = MulticlassClassificationEvaluator(labelCol=\"label\", predictionCol=\"prediction\", metricName=\"accuracy\")\n",
    "\n",
    "for name, model in models.items():\n",
    "    # Fit model\n",
    "    model = model.fit(train_data)\n",
    "    # Make predictions\n",
    "    predictions = model.transform(test_data)\n",
    "    # Evaluate model\n",
    "    accuracy = evaluator.evaluate(predictions)\n",
    "    accuracies[name] = accuracy\n",
    "\n",
    "    print(f\"{name} accuracy: {accuracy}\")\n"
   ]
  },
  {
   "cell_type": "code",
   "execution_count": null,
   "metadata": {},
   "outputs": [],
   "source": [
    "# Find the model with the highest accuracy\n",
    "best_model_name = max(accuracies, key=accuracies.get)\n",
    "best_accuracy = accuracies[best_model_name]\n",
    "\n",
    "print(f\"Best model is {best_model_name} with an accuracy of {best_accuracy}\")\n"
   ]
  },
  {
   "cell_type": "code",
   "execution_count": null,
   "metadata": {},
   "outputs": [],
   "source": [
    "# Assuming the best model is stored in a variable `best_model`\n",
    "best_model = models[best_model_name].fit(data)  # Refit on the entire dataset if needed\n",
    "best_model.write().overwrite().save(f\"path_to_save/{best_model_name}_model\")\n"
   ]
  },
  {
   "cell_type": "code",
   "execution_count": null,
   "metadata": {},
   "outputs": [],
   "source": []
  }
 ],
 "metadata": {
  "kernelspec": {
   "display_name": "Python 3",
   "language": "python",
   "name": "python3"
  },
  "language_info": {
   "codemirror_mode": {
    "name": "ipython",
    "version": 3
   },
   "file_extension": ".py",
   "mimetype": "text/x-python",
   "name": "python",
   "nbconvert_exporter": "python",
   "pygments_lexer": "ipython3",
   "version": "3.11.9"
  }
 },
 "nbformat": 4,
 "nbformat_minor": 2
}
